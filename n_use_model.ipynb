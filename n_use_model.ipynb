{
 "cells": [
  {
   "cell_type": "markdown",
   "id": "90e73463",
   "metadata": {},
   "source": [
    "# Run this notebook to use the model locally\n",
    "You can pass inputs in the last cell"
   ]
  },
  {
   "cell_type": "code",
   "execution_count": null,
   "id": "d84a90e2",
   "metadata": {},
   "outputs": [
    {
     "name": "stdout",
     "output_type": "stream",
     "text": [
      "Using MPS device\n",
      "Using device: mps\n"
     ]
    }
   ],
   "source": [
    "import numpy as np\n",
    "import torch\n",
    "from sklearn.metrics import accuracy_score, precision_recall_fscore_support, confusion_matrix\n",
    "from sklearn.model_selection import train_test_split\n",
    "from transformers import (\n",
    "    DistilBertForSequenceClassification, \n",
    "    AutoTokenizer,\n",
    "    Trainer, \n",
    "    TrainingArguments,\n",
    "    EarlyStoppingCallback,\n",
    "    AutoModelForSequenceClassification\n",
    ")\n",
    "import os\n",
    "import json\n",
    "\n",
    "# Set random seeds for reproducibility\n",
    "RANDOM_SEED = 42\n",
    "np.random.seed(RANDOM_SEED)\n",
    "torch.manual_seed(RANDOM_SEED)\n",
    "if torch.cuda.is_available():\n",
    "    torch.cuda.manual_seed_all(RANDOM_SEED)\n",
    "\n",
    "# Check for MPS (Apple Silicon) device\n",
    "use_mps = torch.backends.mps.is_available()\n",
    "try:\n",
    "    if torch.backends.mps.is_available():\n",
    "        device = torch.device(\"mps\")\n",
    "        print(\"Using MPS device\")\n",
    "    elif torch.cuda.is_available():\n",
    "        device = torch.device(\"cuda\")\n",
    "        print(\"Using CUDA device\")\n",
    "    else:\n",
    "        device = torch.device(\"cpu\")\n",
    "        print(\"Using CPU device\")\n",
    "except:\n",
    "    device = torch.device(\"cpu\")\n",
    "    print(\"Fallback to CPU device due to error\")\n",
    "\n",
    "print(f\"Using device: {device}\")\n",
    "\n",
    "# Model configuration with smaller memory footprint\n",
    "MODEL_NAME = \"distilbert-base-uncased\"\n",
    "NUM_LABELS = 2  # Binary classification\n",
    "OUTPUT_DIR = \"./results\"\n",
    "MODEL_DIR = \"./saved_model\"\n",
    "MAX_LENGTH = 128  # Limit sequence length to save memory\n",
    "\n",
    "\n",
    "MODEL_DIR = \"./saved_model\"\n",
    "model = AutoModelForSequenceClassification.from_pretrained(MODEL_DIR)\n",
    "tokenizer = AutoTokenizer.from_pretrained(MODEL_DIR)"
   ]
  },
  {
   "cell_type": "code",
   "execution_count": null,
   "id": "cb3daa86",
   "metadata": {},
   "outputs": [],
   "source": [
    "def predict_sentiment(text):\n",
    "    # Process one example at a time\n",
    "    inputs = tokenizer(\n",
    "        text, \n",
    "        return_tensors=\"pt\", \n",
    "        truncation=True, \n",
    "        max_length=MAX_LENGTH,\n",
    "        padding=\"max_length\"\n",
    "    )\n",
    "    \n",
    "    # Move inputs to the right device\n",
    "    inputs = {k: v.to(device) for k, v in inputs.items()}\n",
    "    \n",
    "    # Use inference mode to save memory\n",
    "    with torch.inference_mode():\n",
    "        outputs = model(**inputs)\n",
    "    \n",
    "    logits = outputs.logits.cpu()  # Move back to CPU for post-processing\n",
    "    prediction = torch.argmax(logits, dim=-1).item()\n",
    "    \n",
    "    return {\n",
    "        \"text\": text,\n",
    "        # \"predicted_class\": prediction,\n",
    "        # \"class_name\": model.config.id2label[prediction],\n",
    "        \"offensive\": bool(prediction),\n",
    "        \"confidence\": torch.softmax(logits, dim=-1)[0][prediction].item()\n",
    "    }\n",
    "\n",
    "def print_prediction(pred): \n",
    "    print(json.dumps(pred, indent=4))\n",
    "model = model.to(device)"
   ]
  },
  {
   "cell_type": "code",
   "execution_count": 15,
   "id": "77ae1bc9",
   "metadata": {},
   "outputs": [
    {
     "name": "stdout",
     "output_type": "stream",
     "text": [
      "{\n",
      "    \"text\": \"I am not offensive!\",\n",
      "    \"offensive\": false,\n",
      "    \"confidence\": 0.9957155585289001\n",
      "}\n"
     ]
    }
   ],
   "source": [
    "test_input = \"\"\"\n",
    "I am not offensive!\n",
    "\"\"\".strip()\n",
    "print(json.dumps(predict_sentiment(test_input), indent=4))"
   ]
  },
  {
   "cell_type": "code",
   "execution_count": null,
   "id": "ed06af1a",
   "metadata": {},
   "outputs": [],
   "source": []
  }
 ],
 "metadata": {
  "kernelspec": {
   "display_name": ".venv",
   "language": "python",
   "name": "python3"
  },
  "language_info": {
   "codemirror_mode": {
    "name": "ipython",
    "version": 3
   },
   "file_extension": ".py",
   "mimetype": "text/x-python",
   "name": "python",
   "nbconvert_exporter": "python",
   "pygments_lexer": "ipython3",
   "version": "3.10.10"
  }
 },
 "nbformat": 4,
 "nbformat_minor": 5
}
